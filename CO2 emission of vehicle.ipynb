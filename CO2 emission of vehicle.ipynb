{
 "cells": [
  {
   "cell_type": "code",
   "execution_count": 1,
   "id": "floppy-seeking",
   "metadata": {},
   "outputs": [],
   "source": [
    "import numpy as np\n",
    "import pandas as pd\n",
    "import matplotlib.pyplot as plt\n",
    "import seaborn as sns"
   ]
  },
  {
   "cell_type": "code",
   "execution_count": 2,
   "id": "brown-brand",
   "metadata": {},
   "outputs": [
    {
     "data": {
      "text/plain": [
       "array([2014], dtype=int64)"
      ]
     },
     "execution_count": 2,
     "metadata": {},
     "output_type": "execute_result"
    }
   ],
   "source": [
    "fuel_Consumption=pd.read_csv('FuelConsumptionCo2.csv')\n",
    "fuel_Consumption.isna().sum()\n",
    "fuel_Consumption['MODELYEAR'].unique()"
   ]
  },
  {
   "cell_type": "code",
   "execution_count": 3,
   "id": "adjusted-payroll",
   "metadata": {},
   "outputs": [
    {
     "data": {
      "text/html": [
       "<div>\n",
       "<style scoped>\n",
       "    .dataframe tbody tr th:only-of-type {\n",
       "        vertical-align: middle;\n",
       "    }\n",
       "\n",
       "    .dataframe tbody tr th {\n",
       "        vertical-align: top;\n",
       "    }\n",
       "\n",
       "    .dataframe thead th {\n",
       "        text-align: right;\n",
       "    }\n",
       "</style>\n",
       "<table border=\"1\" class=\"dataframe\">\n",
       "  <thead>\n",
       "    <tr style=\"text-align: right;\">\n",
       "      <th></th>\n",
       "      <th>MODELYEAR</th>\n",
       "      <th>MAKE</th>\n",
       "      <th>MODEL</th>\n",
       "      <th>VEHICLECLASS</th>\n",
       "      <th>ENGINESIZE</th>\n",
       "      <th>CYLINDERS</th>\n",
       "      <th>TRANSMISSION</th>\n",
       "      <th>FUELTYPE</th>\n",
       "      <th>FUELCONSUMPTION_CITY</th>\n",
       "      <th>FUELCONSUMPTION_HWY</th>\n",
       "      <th>FUELCONSUMPTION_COMB</th>\n",
       "      <th>FUELCONSUMPTION_COMB_MPG</th>\n",
       "      <th>CO2EMISSIONS</th>\n",
       "    </tr>\n",
       "  </thead>\n",
       "  <tbody>\n",
       "    <tr>\n",
       "      <th>0</th>\n",
       "      <td>2014</td>\n",
       "      <td>ACURA</td>\n",
       "      <td>ILX</td>\n",
       "      <td>COMPACT</td>\n",
       "      <td>2.0</td>\n",
       "      <td>4</td>\n",
       "      <td>AS5</td>\n",
       "      <td>Z</td>\n",
       "      <td>9.9</td>\n",
       "      <td>6.7</td>\n",
       "      <td>8.5</td>\n",
       "      <td>33</td>\n",
       "      <td>196</td>\n",
       "    </tr>\n",
       "    <tr>\n",
       "      <th>1</th>\n",
       "      <td>2014</td>\n",
       "      <td>ACURA</td>\n",
       "      <td>ILX</td>\n",
       "      <td>COMPACT</td>\n",
       "      <td>2.4</td>\n",
       "      <td>4</td>\n",
       "      <td>M6</td>\n",
       "      <td>Z</td>\n",
       "      <td>11.2</td>\n",
       "      <td>7.7</td>\n",
       "      <td>9.6</td>\n",
       "      <td>29</td>\n",
       "      <td>221</td>\n",
       "    </tr>\n",
       "    <tr>\n",
       "      <th>2</th>\n",
       "      <td>2014</td>\n",
       "      <td>ACURA</td>\n",
       "      <td>ILX HYBRID</td>\n",
       "      <td>COMPACT</td>\n",
       "      <td>1.5</td>\n",
       "      <td>4</td>\n",
       "      <td>AV7</td>\n",
       "      <td>Z</td>\n",
       "      <td>6.0</td>\n",
       "      <td>5.8</td>\n",
       "      <td>5.9</td>\n",
       "      <td>48</td>\n",
       "      <td>136</td>\n",
       "    </tr>\n",
       "    <tr>\n",
       "      <th>3</th>\n",
       "      <td>2014</td>\n",
       "      <td>ACURA</td>\n",
       "      <td>MDX 4WD</td>\n",
       "      <td>SUV - SMALL</td>\n",
       "      <td>3.5</td>\n",
       "      <td>6</td>\n",
       "      <td>AS6</td>\n",
       "      <td>Z</td>\n",
       "      <td>12.7</td>\n",
       "      <td>9.1</td>\n",
       "      <td>11.1</td>\n",
       "      <td>25</td>\n",
       "      <td>255</td>\n",
       "    </tr>\n",
       "    <tr>\n",
       "      <th>4</th>\n",
       "      <td>2014</td>\n",
       "      <td>ACURA</td>\n",
       "      <td>RDX AWD</td>\n",
       "      <td>SUV - SMALL</td>\n",
       "      <td>3.5</td>\n",
       "      <td>6</td>\n",
       "      <td>AS6</td>\n",
       "      <td>Z</td>\n",
       "      <td>12.1</td>\n",
       "      <td>8.7</td>\n",
       "      <td>10.6</td>\n",
       "      <td>27</td>\n",
       "      <td>244</td>\n",
       "    </tr>\n",
       "  </tbody>\n",
       "</table>\n",
       "</div>"
      ],
      "text/plain": [
       "   MODELYEAR   MAKE       MODEL VEHICLECLASS  ENGINESIZE  CYLINDERS  \\\n",
       "0       2014  ACURA         ILX      COMPACT         2.0          4   \n",
       "1       2014  ACURA         ILX      COMPACT         2.4          4   \n",
       "2       2014  ACURA  ILX HYBRID      COMPACT         1.5          4   \n",
       "3       2014  ACURA     MDX 4WD  SUV - SMALL         3.5          6   \n",
       "4       2014  ACURA     RDX AWD  SUV - SMALL         3.5          6   \n",
       "\n",
       "  TRANSMISSION FUELTYPE  FUELCONSUMPTION_CITY  FUELCONSUMPTION_HWY  \\\n",
       "0          AS5        Z                   9.9                  6.7   \n",
       "1           M6        Z                  11.2                  7.7   \n",
       "2          AV7        Z                   6.0                  5.8   \n",
       "3          AS6        Z                  12.7                  9.1   \n",
       "4          AS6        Z                  12.1                  8.7   \n",
       "\n",
       "   FUELCONSUMPTION_COMB  FUELCONSUMPTION_COMB_MPG  CO2EMISSIONS  \n",
       "0                   8.5                        33           196  \n",
       "1                   9.6                        29           221  \n",
       "2                   5.9                        48           136  \n",
       "3                  11.1                        25           255  \n",
       "4                  10.6                        27           244  "
      ]
     },
     "execution_count": 3,
     "metadata": {},
     "output_type": "execute_result"
    }
   ],
   "source": [
    "fuel_Consumption.head()"
   ]
  },
  {
   "cell_type": "code",
   "execution_count": 4,
   "id": "earned-model",
   "metadata": {},
   "outputs": [],
   "source": [
    "x=fuel_Consumption.drop('CO2EMISSIONS',axis=1).copy()\n",
    "y=fuel_Consumption['CO2EMISSIONS']\n"
   ]
  },
  {
   "cell_type": "code",
   "execution_count": 5,
   "id": "disciplinary-howard",
   "metadata": {},
   "outputs": [
    {
     "data": {
      "text/html": [
       "<div>\n",
       "<style scoped>\n",
       "    .dataframe tbody tr th:only-of-type {\n",
       "        vertical-align: middle;\n",
       "    }\n",
       "\n",
       "    .dataframe tbody tr th {\n",
       "        vertical-align: top;\n",
       "    }\n",
       "\n",
       "    .dataframe thead th {\n",
       "        text-align: right;\n",
       "    }\n",
       "</style>\n",
       "<table border=\"1\" class=\"dataframe\">\n",
       "  <thead>\n",
       "    <tr style=\"text-align: right;\">\n",
       "      <th></th>\n",
       "      <th>MODELYEAR</th>\n",
       "      <th>MAKE</th>\n",
       "      <th>MODEL</th>\n",
       "      <th>VEHICLECLASS</th>\n",
       "      <th>ENGINESIZE</th>\n",
       "      <th>CYLINDERS</th>\n",
       "      <th>TRANSMISSION</th>\n",
       "      <th>FUELTYPE</th>\n",
       "      <th>FUELCONSUMPTION_CITY</th>\n",
       "      <th>FUELCONSUMPTION_HWY</th>\n",
       "      <th>FUELCONSUMPTION_COMB</th>\n",
       "      <th>FUELCONSUMPTION_COMB_MPG</th>\n",
       "    </tr>\n",
       "  </thead>\n",
       "  <tbody>\n",
       "    <tr>\n",
       "      <th>0</th>\n",
       "      <td>2014</td>\n",
       "      <td>ACURA</td>\n",
       "      <td>ILX</td>\n",
       "      <td>COMPACT</td>\n",
       "      <td>2.0</td>\n",
       "      <td>4</td>\n",
       "      <td>AS5</td>\n",
       "      <td>Z</td>\n",
       "      <td>9.9</td>\n",
       "      <td>6.7</td>\n",
       "      <td>8.5</td>\n",
       "      <td>33</td>\n",
       "    </tr>\n",
       "    <tr>\n",
       "      <th>1</th>\n",
       "      <td>2014</td>\n",
       "      <td>ACURA</td>\n",
       "      <td>ILX</td>\n",
       "      <td>COMPACT</td>\n",
       "      <td>2.4</td>\n",
       "      <td>4</td>\n",
       "      <td>M6</td>\n",
       "      <td>Z</td>\n",
       "      <td>11.2</td>\n",
       "      <td>7.7</td>\n",
       "      <td>9.6</td>\n",
       "      <td>29</td>\n",
       "    </tr>\n",
       "    <tr>\n",
       "      <th>2</th>\n",
       "      <td>2014</td>\n",
       "      <td>ACURA</td>\n",
       "      <td>ILX HYBRID</td>\n",
       "      <td>COMPACT</td>\n",
       "      <td>1.5</td>\n",
       "      <td>4</td>\n",
       "      <td>AV7</td>\n",
       "      <td>Z</td>\n",
       "      <td>6.0</td>\n",
       "      <td>5.8</td>\n",
       "      <td>5.9</td>\n",
       "      <td>48</td>\n",
       "    </tr>\n",
       "    <tr>\n",
       "      <th>3</th>\n",
       "      <td>2014</td>\n",
       "      <td>ACURA</td>\n",
       "      <td>MDX 4WD</td>\n",
       "      <td>SUV - SMALL</td>\n",
       "      <td>3.5</td>\n",
       "      <td>6</td>\n",
       "      <td>AS6</td>\n",
       "      <td>Z</td>\n",
       "      <td>12.7</td>\n",
       "      <td>9.1</td>\n",
       "      <td>11.1</td>\n",
       "      <td>25</td>\n",
       "    </tr>\n",
       "    <tr>\n",
       "      <th>4</th>\n",
       "      <td>2014</td>\n",
       "      <td>ACURA</td>\n",
       "      <td>RDX AWD</td>\n",
       "      <td>SUV - SMALL</td>\n",
       "      <td>3.5</td>\n",
       "      <td>6</td>\n",
       "      <td>AS6</td>\n",
       "      <td>Z</td>\n",
       "      <td>12.1</td>\n",
       "      <td>8.7</td>\n",
       "      <td>10.6</td>\n",
       "      <td>27</td>\n",
       "    </tr>\n",
       "  </tbody>\n",
       "</table>\n",
       "</div>"
      ],
      "text/plain": [
       "   MODELYEAR   MAKE       MODEL VEHICLECLASS  ENGINESIZE  CYLINDERS  \\\n",
       "0       2014  ACURA         ILX      COMPACT         2.0          4   \n",
       "1       2014  ACURA         ILX      COMPACT         2.4          4   \n",
       "2       2014  ACURA  ILX HYBRID      COMPACT         1.5          4   \n",
       "3       2014  ACURA     MDX 4WD  SUV - SMALL         3.5          6   \n",
       "4       2014  ACURA     RDX AWD  SUV - SMALL         3.5          6   \n",
       "\n",
       "  TRANSMISSION FUELTYPE  FUELCONSUMPTION_CITY  FUELCONSUMPTION_HWY  \\\n",
       "0          AS5        Z                   9.9                  6.7   \n",
       "1           M6        Z                  11.2                  7.7   \n",
       "2          AV7        Z                   6.0                  5.8   \n",
       "3          AS6        Z                  12.7                  9.1   \n",
       "4          AS6        Z                  12.1                  8.7   \n",
       "\n",
       "   FUELCONSUMPTION_COMB  FUELCONSUMPTION_COMB_MPG  \n",
       "0                   8.5                        33  \n",
       "1                   9.6                        29  \n",
       "2                   5.9                        48  \n",
       "3                  11.1                        25  \n",
       "4                  10.6                        27  "
      ]
     },
     "execution_count": 5,
     "metadata": {},
     "output_type": "execute_result"
    }
   ],
   "source": [
    "x.head()"
   ]
  },
  {
   "cell_type": "code",
   "execution_count": 6,
   "id": "conditional-journalism",
   "metadata": {},
   "outputs": [
    {
     "data": {
      "text/plain": [
       "0    196\n",
       "1    221\n",
       "2    136\n",
       "3    255\n",
       "4    244\n",
       "Name: CO2EMISSIONS, dtype: int64"
      ]
     },
     "execution_count": 6,
     "metadata": {},
     "output_type": "execute_result"
    }
   ],
   "source": [
    "y.head()"
   ]
  },
  {
   "cell_type": "code",
   "execution_count": 7,
   "id": "sitting-flour",
   "metadata": {},
   "outputs": [
    {
     "data": {
      "text/plain": [
       "FUELCONSUMPTION_CITY        0.898039\n",
       "FUELCONSUMPTION_COMB        0.892129\n",
       "ENGINESIZE                  0.874154\n",
       "FUELCONSUMPTION_HWY         0.861748\n",
       "CYLINDERS                   0.849685\n",
       "FUELCONSUMPTION_COMB_MPG   -0.906394\n",
       "MODELYEAR                        NaN\n",
       "dtype: float64"
      ]
     },
     "execution_count": 7,
     "metadata": {},
     "output_type": "execute_result"
    }
   ],
   "source": [
    "corr = x.corrwith(y).sort_values(ascending=False)\n",
    "corr"
   ]
  },
  {
   "cell_type": "code",
   "execution_count": 8,
   "id": "latest-investing",
   "metadata": {},
   "outputs": [],
   "source": [
    "from sklearn.model_selection import train_test_split"
   ]
  },
  {
   "cell_type": "code",
   "execution_count": 9,
   "id": "ecological-madness",
   "metadata": {},
   "outputs": [
    {
     "data": {
      "text/html": [
       "<div>\n",
       "<style scoped>\n",
       "    .dataframe tbody tr th:only-of-type {\n",
       "        vertical-align: middle;\n",
       "    }\n",
       "\n",
       "    .dataframe tbody tr th {\n",
       "        vertical-align: top;\n",
       "    }\n",
       "\n",
       "    .dataframe thead th {\n",
       "        text-align: right;\n",
       "    }\n",
       "</style>\n",
       "<table border=\"1\" class=\"dataframe\">\n",
       "  <thead>\n",
       "    <tr style=\"text-align: right;\">\n",
       "      <th></th>\n",
       "      <th>MODELYEAR</th>\n",
       "      <th>ENGINESIZE</th>\n",
       "      <th>CYLINDERS</th>\n",
       "      <th>FUELCONSUMPTION_CITY</th>\n",
       "      <th>FUELCONSUMPTION_HWY</th>\n",
       "      <th>FUELCONSUMPTION_COMB</th>\n",
       "      <th>FUELCONSUMPTION_COMB_MPG</th>\n",
       "    </tr>\n",
       "  </thead>\n",
       "  <tbody>\n",
       "    <tr>\n",
       "      <th>count</th>\n",
       "      <td>853.0</td>\n",
       "      <td>853.000000</td>\n",
       "      <td>853.000000</td>\n",
       "      <td>853.000000</td>\n",
       "      <td>853.000000</td>\n",
       "      <td>853.000000</td>\n",
       "      <td>853.000000</td>\n",
       "    </tr>\n",
       "    <tr>\n",
       "      <th>mean</th>\n",
       "      <td>2014.0</td>\n",
       "      <td>3.331770</td>\n",
       "      <td>5.777257</td>\n",
       "      <td>13.276788</td>\n",
       "      <td>9.480422</td>\n",
       "      <td>11.572216</td>\n",
       "      <td>26.498242</td>\n",
       "    </tr>\n",
       "    <tr>\n",
       "      <th>std</th>\n",
       "      <td>0.0</td>\n",
       "      <td>1.420478</td>\n",
       "      <td>1.799739</td>\n",
       "      <td>4.147167</td>\n",
       "      <td>2.836463</td>\n",
       "      <td>3.529655</td>\n",
       "      <td>7.518151</td>\n",
       "    </tr>\n",
       "    <tr>\n",
       "      <th>min</th>\n",
       "      <td>2014.0</td>\n",
       "      <td>1.000000</td>\n",
       "      <td>3.000000</td>\n",
       "      <td>4.600000</td>\n",
       "      <td>4.900000</td>\n",
       "      <td>4.700000</td>\n",
       "      <td>11.000000</td>\n",
       "    </tr>\n",
       "    <tr>\n",
       "      <th>25%</th>\n",
       "      <td>2014.0</td>\n",
       "      <td>2.000000</td>\n",
       "      <td>4.000000</td>\n",
       "      <td>10.200000</td>\n",
       "      <td>7.500000</td>\n",
       "      <td>9.000000</td>\n",
       "      <td>21.000000</td>\n",
       "    </tr>\n",
       "    <tr>\n",
       "      <th>50%</th>\n",
       "      <td>2014.0</td>\n",
       "      <td>3.300000</td>\n",
       "      <td>6.000000</td>\n",
       "      <td>12.500000</td>\n",
       "      <td>8.800000</td>\n",
       "      <td>10.900000</td>\n",
       "      <td>26.000000</td>\n",
       "    </tr>\n",
       "    <tr>\n",
       "      <th>75%</th>\n",
       "      <td>2014.0</td>\n",
       "      <td>4.300000</td>\n",
       "      <td>8.000000</td>\n",
       "      <td>15.400000</td>\n",
       "      <td>10.700000</td>\n",
       "      <td>13.200000</td>\n",
       "      <td>31.000000</td>\n",
       "    </tr>\n",
       "    <tr>\n",
       "      <th>max</th>\n",
       "      <td>2014.0</td>\n",
       "      <td>8.400000</td>\n",
       "      <td>12.000000</td>\n",
       "      <td>30.200000</td>\n",
       "      <td>20.500000</td>\n",
       "      <td>25.800000</td>\n",
       "      <td>60.000000</td>\n",
       "    </tr>\n",
       "  </tbody>\n",
       "</table>\n",
       "</div>"
      ],
      "text/plain": [
       "       MODELYEAR  ENGINESIZE   CYLINDERS  FUELCONSUMPTION_CITY  \\\n",
       "count      853.0  853.000000  853.000000            853.000000   \n",
       "mean      2014.0    3.331770    5.777257             13.276788   \n",
       "std          0.0    1.420478    1.799739              4.147167   \n",
       "min       2014.0    1.000000    3.000000              4.600000   \n",
       "25%       2014.0    2.000000    4.000000             10.200000   \n",
       "50%       2014.0    3.300000    6.000000             12.500000   \n",
       "75%       2014.0    4.300000    8.000000             15.400000   \n",
       "max       2014.0    8.400000   12.000000             30.200000   \n",
       "\n",
       "       FUELCONSUMPTION_HWY  FUELCONSUMPTION_COMB  FUELCONSUMPTION_COMB_MPG  \n",
       "count           853.000000            853.000000                853.000000  \n",
       "mean              9.480422             11.572216                 26.498242  \n",
       "std               2.836463              3.529655                  7.518151  \n",
       "min               4.900000              4.700000                 11.000000  \n",
       "25%               7.500000              9.000000                 21.000000  \n",
       "50%               8.800000             10.900000                 26.000000  \n",
       "75%              10.700000             13.200000                 31.000000  \n",
       "max              20.500000             25.800000                 60.000000  "
      ]
     },
     "execution_count": 9,
     "metadata": {},
     "output_type": "execute_result"
    }
   ],
   "source": [
    "x_train,x_test,y_train,y_test=train_test_split(x,y,test_size=0.2,random_state=123)\n",
    "x_train.describe()"
   ]
  },
  {
   "cell_type": "code",
   "execution_count": null,
   "id": "severe-munich",
   "metadata": {},
   "outputs": [],
   "source": []
  },
  {
   "cell_type": "code",
   "execution_count": 10,
   "id": "stock-vehicle",
   "metadata": {},
   "outputs": [
    {
     "data": {
      "text/plain": [
       "Index(['FUELCONSUMPTION_CITY', 'FUELCONSUMPTION_COMB', 'ENGINESIZE',\n",
       "       'FUELCONSUMPTION_HWY', 'CYLINDERS', 'FUELCONSUMPTION_COMB_MPG'],\n",
       "      dtype='object')"
      ]
     },
     "execution_count": 10,
     "metadata": {},
     "output_type": "execute_result"
    }
   ],
   "source": [
    "x_train_numerical=x_train[['FUELCONSUMPTION_CITY','FUELCONSUMPTION_COMB','ENGINESIZE','FUELCONSUMPTION_HWY','CYLINDERS','FUELCONSUMPTION_COMB_MPG']]\n",
    "x_train_category=x_train.drop(['FUELCONSUMPTION_CITY','FUELCONSUMPTION_COMB','ENGINESIZE','FUELCONSUMPTION_HWY','CYLINDERS','FUELCONSUMPTION_COMB_MPG'],axis=1)\n",
    "x_train_category.drop('MODELYEAR',axis=1,inplace=True)\n",
    "x_train_category.drop(['MAKE','MODEL','VEHICLECLASS','TRANSMISSION'],axis=1,inplace=True)\n",
    "x_train_numerical.columns"
   ]
  },
  {
   "cell_type": "code",
   "execution_count": 11,
   "id": "special-inquiry",
   "metadata": {},
   "outputs": [
    {
     "name": "stderr",
     "output_type": "stream",
     "text": [
      "C:\\Users\\saina\\AppData\\Local\\Programs\\Python\\Python39\\lib\\site-packages\\seaborn\\_decorators.py:36: FutureWarning: Pass the following variables as keyword args: x, y. From version 0.12, the only valid positional argument will be `data`, and passing other arguments without an explicit keyword will result in an error or misinterpretation.\n",
      "  warnings.warn(\n"
     ]
    },
    {
     "data": {
      "image/png": "[encoded data removed]",
      "text/plain": [
       "<Figure size 432x288 with 1 Axes>"
      ]
     },
     "metadata": {
      "needs_background": "light"
     },
     "output_type": "display_data"
    },
    {
     "name": "stderr",
     "output_type": "stream",
     "text": [
      "C:\\Users\\saina\\AppData\\Local\\Programs\\Python\\Python39\\lib\\site-packages\\seaborn\\_decorators.py:36: FutureWarning: Pass the following variables as keyword args: x, y. From version 0.12, the only valid positional argument will be `data`, and passing other arguments without an explicit keyword will result in an error or misinterpretation.\n",
      "  warnings.warn(\n"
     ]
    },
    {
     "data": {
      "image/png": "[encoded data removed]",
      "text/plain": [
       "<Figure size 432x288 with 1 Axes>"
      ]
     },
     "metadata": {
      "needs_background": "light"
     },
     "output_type": "display_data"
    },
    {
     "name": "stderr",
     "output_type": "stream",
     "text": [
      "C:\\Users\\saina\\AppData\\Local\\Programs\\Python\\Python39\\lib\\site-packages\\seaborn\\_decorators.py:36: FutureWarning: Pass the following variables as keyword args: x, y. From version 0.12, the only valid positional argument will be `data`, and passing other arguments without an explicit keyword will result in an error or misinterpretation.\n",
      "  warnings.warn(\n"
     ]
    },
    {
     "data": {
      "image/png": "[encoded data removed]",
      "text/plain": [
       "<Figure size 432x288 with 1 Axes>"
      ]
     },
     "metadata": {
      "needs_background": "light"
     },
     "output_type": "display_data"
    },
    {
     "name": "stderr",
     "output_type": "stream",
     "text": [
      "C:\\Users\\saina\\AppData\\Local\\Programs\\Python\\Python39\\lib\\site-packages\\seaborn\\_decorators.py:36: FutureWarning: Pass the following variables as keyword args: x, y. From version 0.12, the only valid positional argument will be `data`, and passing other arguments without an explicit keyword will result in an error or misinterpretation.\n",
      "  warnings.warn(\n"
     ]
    },
    {
     "data": {
      "image/png": "[encoded data removed]",
      "text/plain": [
       "<Figure size 432x288 with 1 Axes>"
      ]
     },
     "metadata": {
      "needs_background": "light"
     },
     "output_type": "display_data"
    },
    {
     "name": "stderr",
     "output_type": "stream",
     "text": [
      "C:\\Users\\saina\\AppData\\Local\\Programs\\Python\\Python39\\lib\\site-packages\\seaborn\\_decorators.py:36: FutureWarning: Pass the following variables as keyword args: x, y. From version 0.12, the only valid positional argument will be `data`, and passing other arguments without an explicit keyword will result in an error or misinterpretation.\n",
      "  warnings.warn(\n"
     ]
    },
    {
     "data": {
      "image/png": "[encoded data removed]",
      "text/plain": [
       "<Figure size 432x288 with 1 Axes>"
      ]
     },
     "metadata": {
      "needs_background": "light"
     },
     "output_type": "display_data"
    },
    {
     "name": "stderr",
     "output_type": "stream",
     "text": [
      "C:\\Users\\saina\\AppData\\Local\\Programs\\Python\\Python39\\lib\\site-packages\\seaborn\\_decorators.py:36: FutureWarning: Pass the following variables as keyword args: x, y. From version 0.12, the only valid positional argument will be `data`, and passing other arguments without an explicit keyword will result in an error or misinterpretation.\n",
      "  warnings.warn(\n"
     ]
    },
    {
     "data": {
      "image/png": "[encoded data removed]",
      "text/plain": [
       "<Figure size 432x288 with 1 Axes>"
      ]
     },
     "metadata": {
      "needs_background": "light"
     },
     "output_type": "display_data"
    }
   ],
   "source": [
    "for i in x_train_numerical.columns:\n",
    "    sns.regplot(x[i],y)\n",
    "    plt.show()"
   ]
  },
  {
   "cell_type": "code",
   "execution_count": 12,
   "id": "engaged-drive",
   "metadata": {},
   "outputs": [],
   "source": [
    "#Fueltype\n",
    "from sklearn.preprocessing import OneHotEncoder"
   ]
  },
  {
   "cell_type": "code",
   "execution_count": 13,
   "id": "breathing-upper",
   "metadata": {},
   "outputs": [],
   "source": [
    "encoder=OneHotEncoder()"
   ]
  },
  {
   "cell_type": "code",
   "execution_count": 14,
   "id": "enabling-whole",
   "metadata": {},
   "outputs": [],
   "source": [
    "x_train_category_tr=encoder.fit_transform(x_train_category)"
   ]
  },
  {
   "cell_type": "code",
   "execution_count": 15,
   "id": "female-cooperative",
   "metadata": {},
   "outputs": [],
   "source": [
    "x_train_category_tr=pd.DataFrame(x_train_category_tr.toarray(),columns=['D', 'E', 'X', 'Z'])"
   ]
  },
  {
   "cell_type": "code",
   "execution_count": 16,
   "id": "convenient-peoples",
   "metadata": {},
   "outputs": [
    {
     "data": {
      "text/plain": [
       "D    0\n",
       "E    0\n",
       "X    0\n",
       "Z    0\n",
       "dtype: int64"
      ]
     },
     "execution_count": 16,
     "metadata": {},
     "output_type": "execute_result"
    }
   ],
   "source": [
    "x_train_category_tr\n",
    "x_train_category_tr.isna().sum()"
   ]
  },
  {
   "cell_type": "code",
   "execution_count": 17,
   "id": "incredible-contributor",
   "metadata": {},
   "outputs": [
    {
     "data": {
      "text/plain": [
       "D    0.073153\n",
       "Z    0.024108\n",
       "E    0.008748\n",
       "X   -0.050762\n",
       "dtype: float64"
      ]
     },
     "execution_count": 17,
     "metadata": {},
     "output_type": "execute_result"
    }
   ],
   "source": [
    "corr = x_train_category_tr.corrwith(y).sort_values(ascending=False)\n",
    "corr"
   ]
  },
  {
   "cell_type": "code",
   "execution_count": 18,
   "id": "dried-cholesterol",
   "metadata": {},
   "outputs": [],
   "source": [
    "from sklearn.preprocessing import StandardScaler"
   ]
  },
  {
   "cell_type": "code",
   "execution_count": 19,
   "id": "charged-orange",
   "metadata": {},
   "outputs": [
    {
     "data": {
      "text/html": [
       "<div>\n",
       "<style scoped>\n",
       "    .dataframe tbody tr th:only-of-type {\n",
       "        vertical-align: middle;\n",
       "    }\n",
       "\n",
       "    .dataframe tbody tr th {\n",
       "        vertical-align: top;\n",
       "    }\n",
       "\n",
       "    .dataframe thead th {\n",
       "        text-align: right;\n",
       "    }\n",
       "</style>\n",
       "<table border=\"1\" class=\"dataframe\">\n",
       "  <thead>\n",
       "    <tr style=\"text-align: right;\">\n",
       "      <th></th>\n",
       "      <th>FUELCONSUMPTION_CITY</th>\n",
       "      <th>FUELCONSUMPTION_COMB</th>\n",
       "      <th>ENGINESIZE</th>\n",
       "      <th>FUELCONSUMPTION_HWY</th>\n",
       "      <th>CYLINDERS</th>\n",
       "      <th>FUELCONSUMPTION_COMB_MPG</th>\n",
       "    </tr>\n",
       "  </thead>\n",
       "  <tbody>\n",
       "    <tr>\n",
       "      <th>0</th>\n",
       "      <td>-0.645828</td>\n",
       "      <td>-0.700824</td>\n",
       "      <td>-0.938101</td>\n",
       "      <td>-0.804439</td>\n",
       "      <td>-0.988088</td>\n",
       "      <td>0.599137</td>\n",
       "    </tr>\n",
       "    <tr>\n",
       "      <th>1</th>\n",
       "      <td>0.439886</td>\n",
       "      <td>0.461444</td>\n",
       "      <td>-0.233699</td>\n",
       "      <td>0.500768</td>\n",
       "      <td>0.123837</td>\n",
       "      <td>-0.731758</td>\n",
       "    </tr>\n",
       "    <tr>\n",
       "      <th>2</th>\n",
       "      <td>0.753537</td>\n",
       "      <td>0.858316</td>\n",
       "      <td>1.175104</td>\n",
       "      <td>0.994630</td>\n",
       "      <td>1.235761</td>\n",
       "      <td>-0.997937</td>\n",
       "    </tr>\n",
       "    <tr>\n",
       "      <th>3</th>\n",
       "      <td>-1.176622</td>\n",
       "      <td>-1.211088</td>\n",
       "      <td>-0.585900</td>\n",
       "      <td>-1.263025</td>\n",
       "      <td>-0.988088</td>\n",
       "      <td>1.663852</td>\n",
       "    </tr>\n",
       "    <tr>\n",
       "      <th>4</th>\n",
       "      <td>-0.042654</td>\n",
       "      <td>-0.048820</td>\n",
       "      <td>0.259382</td>\n",
       "      <td>-0.063645</td>\n",
       "      <td>0.123837</td>\n",
       "      <td>-0.199400</td>\n",
       "    </tr>\n",
       "  </tbody>\n",
       "</table>\n",
       "</div>"
      ],
      "text/plain": [
       "   FUELCONSUMPTION_CITY  FUELCONSUMPTION_COMB  ENGINESIZE  \\\n",
       "0             -0.645828             -0.700824   -0.938101   \n",
       "1              0.439886              0.461444   -0.233699   \n",
       "2              0.753537              0.858316    1.175104   \n",
       "3             -1.176622             -1.211088   -0.585900   \n",
       "4             -0.042654             -0.048820    0.259382   \n",
       "\n",
       "   FUELCONSUMPTION_HWY  CYLINDERS  FUELCONSUMPTION_COMB_MPG  \n",
       "0            -0.804439  -0.988088                  0.599137  \n",
       "1             0.500768   0.123837                 -0.731758  \n",
       "2             0.994630   1.235761                 -0.997937  \n",
       "3            -1.263025  -0.988088                  1.663852  \n",
       "4            -0.063645   0.123837                 -0.199400  "
      ]
     },
     "execution_count": 19,
     "metadata": {},
     "output_type": "execute_result"
    }
   ],
   "source": [
    "scale=StandardScaler()\n",
    "x_train_numerical_tr=scale.fit_transform(x_train_numerical)\n",
    "x_train_numerical_tr=pd.DataFrame(x_train_numerical_tr,columns=x_train_numerical.columns)\n",
    "x_train_numerical_tr.head()"
   ]
  },
  {
   "cell_type": "code",
   "execution_count": 20,
   "id": "circular-injection",
   "metadata": {},
   "outputs": [
    {
     "data": {
      "text/plain": [
       "FUELCONSUMPTION_CITY        0\n",
       "FUELCONSUMPTION_COMB        0\n",
       "ENGINESIZE                  0\n",
       "FUELCONSUMPTION_HWY         0\n",
       "CYLINDERS                   0\n",
       "FUELCONSUMPTION_COMB_MPG    0\n",
       "dtype: int64"
      ]
     },
     "execution_count": 20,
     "metadata": {},
     "output_type": "execute_result"
    }
   ],
   "source": [
    "x_train_numerical_tr.isna().sum()"
   ]
  },
  {
   "cell_type": "code",
   "execution_count": 21,
   "id": "olive-therapy",
   "metadata": {},
   "outputs": [
    {
     "data": {
      "text/html": [
       "<div>\n",
       "<style scoped>\n",
       "    .dataframe tbody tr th:only-of-type {\n",
       "        vertical-align: middle;\n",
       "    }\n",
       "\n",
       "    .dataframe tbody tr th {\n",
       "        vertical-align: top;\n",
       "    }\n",
       "\n",
       "    .dataframe thead th {\n",
       "        text-align: right;\n",
       "    }\n",
       "</style>\n",
       "<table border=\"1\" class=\"dataframe\">\n",
       "  <thead>\n",
       "    <tr style=\"text-align: right;\">\n",
       "      <th></th>\n",
       "      <th>FUELCONSUMPTION_CITY</th>\n",
       "      <th>FUELCONSUMPTION_COMB</th>\n",
       "      <th>ENGINESIZE</th>\n",
       "      <th>FUELCONSUMPTION_HWY</th>\n",
       "      <th>CYLINDERS</th>\n",
       "      <th>FUELCONSUMPTION_COMB_MPG</th>\n",
       "      <th>D</th>\n",
       "      <th>E</th>\n",
       "      <th>X</th>\n",
       "      <th>Z</th>\n",
       "    </tr>\n",
       "  </thead>\n",
       "  <tbody>\n",
       "    <tr>\n",
       "      <th>0</th>\n",
       "      <td>-0.645828</td>\n",
       "      <td>-0.700824</td>\n",
       "      <td>-0.938101</td>\n",
       "      <td>-0.804439</td>\n",
       "      <td>-0.988088</td>\n",
       "      <td>0.599137</td>\n",
       "      <td>0.0</td>\n",
       "      <td>0.0</td>\n",
       "      <td>0.0</td>\n",
       "      <td>1.0</td>\n",
       "    </tr>\n",
       "    <tr>\n",
       "      <th>1</th>\n",
       "      <td>0.439886</td>\n",
       "      <td>0.461444</td>\n",
       "      <td>-0.233699</td>\n",
       "      <td>0.500768</td>\n",
       "      <td>0.123837</td>\n",
       "      <td>-0.731758</td>\n",
       "      <td>0.0</td>\n",
       "      <td>0.0</td>\n",
       "      <td>0.0</td>\n",
       "      <td>1.0</td>\n",
       "    </tr>\n",
       "    <tr>\n",
       "      <th>2</th>\n",
       "      <td>0.753537</td>\n",
       "      <td>0.858316</td>\n",
       "      <td>1.175104</td>\n",
       "      <td>0.994630</td>\n",
       "      <td>1.235761</td>\n",
       "      <td>-0.997937</td>\n",
       "      <td>0.0</td>\n",
       "      <td>0.0</td>\n",
       "      <td>1.0</td>\n",
       "      <td>0.0</td>\n",
       "    </tr>\n",
       "    <tr>\n",
       "      <th>3</th>\n",
       "      <td>-1.176622</td>\n",
       "      <td>-1.211088</td>\n",
       "      <td>-0.585900</td>\n",
       "      <td>-1.263025</td>\n",
       "      <td>-0.988088</td>\n",
       "      <td>1.663852</td>\n",
       "      <td>0.0</td>\n",
       "      <td>0.0</td>\n",
       "      <td>1.0</td>\n",
       "      <td>0.0</td>\n",
       "    </tr>\n",
       "    <tr>\n",
       "      <th>4</th>\n",
       "      <td>-0.042654</td>\n",
       "      <td>-0.048820</td>\n",
       "      <td>0.259382</td>\n",
       "      <td>-0.063645</td>\n",
       "      <td>0.123837</td>\n",
       "      <td>-0.199400</td>\n",
       "      <td>0.0</td>\n",
       "      <td>0.0</td>\n",
       "      <td>1.0</td>\n",
       "      <td>0.0</td>\n",
       "    </tr>\n",
       "  </tbody>\n",
       "</table>\n",
       "</div>"
      ],
      "text/plain": [
       "   FUELCONSUMPTION_CITY  FUELCONSUMPTION_COMB  ENGINESIZE  \\\n",
       "0             -0.645828             -0.700824   -0.938101   \n",
       "1              0.439886              0.461444   -0.233699   \n",
       "2              0.753537              0.858316    1.175104   \n",
       "3             -1.176622             -1.211088   -0.585900   \n",
       "4             -0.042654             -0.048820    0.259382   \n",
       "\n",
       "   FUELCONSUMPTION_HWY  CYLINDERS  FUELCONSUMPTION_COMB_MPG    D    E    X  \\\n",
       "0            -0.804439  -0.988088                  0.599137  0.0  0.0  0.0   \n",
       "1             0.500768   0.123837                 -0.731758  0.0  0.0  0.0   \n",
       "2             0.994630   1.235761                 -0.997937  0.0  0.0  1.0   \n",
       "3            -1.263025  -0.988088                  1.663852  0.0  0.0  1.0   \n",
       "4            -0.063645   0.123837                 -0.199400  0.0  0.0  1.0   \n",
       "\n",
       "     Z  \n",
       "0  1.0  \n",
       "1  1.0  \n",
       "2  0.0  \n",
       "3  0.0  \n",
       "4  0.0  "
      ]
     },
     "execution_count": 21,
     "metadata": {},
     "output_type": "execute_result"
    }
   ],
   "source": [
    "x_train_final=pd.concat([x_train_numerical_tr,x_train_category_tr],axis=1)\n",
    "x_train_final.head()"
   ]
  },
  {
   "cell_type": "code",
   "execution_count": 29,
   "id": "shared-pickup",
   "metadata": {},
   "outputs": [],
   "source": [
    "#importing libraries\n",
    "import numpy as np \n",
    "import pandas as pd\n",
    "import matplotlib.pyplot as plt\n",
    "from sklearn.model_selection import train_test_split\n",
    "from sklearn.preprocessing import StandardScaler,OneHotEncoder,OrdinalEncoder\n",
    "from sklearn.impute import SimpleImputer\n",
    "from sklearn.pipeline import Pipeline\n",
    "from sklearn.compose import ColumnTransformer\n",
    "import os\n",
    "from sklearn.linear_model import LinearRegression, SGDRegressor\n",
    "from sklearn.tree import DecisionTreeRegressor\n",
    "from sklearn.svm import SVR\n",
    "from sklearn.ensemble import RandomForestRegressor\n",
    "from sklearn.neighbors import KNeighborsRegressor\n",
    "from sklearn.metrics import mean_squared_error, r2_score"
   ]
  },
  {
   "cell_type": "code",
   "execution_count": 24,
   "id": "acquired-reynolds",
   "metadata": {},
   "outputs": [],
   "source": [
    "def load_data():\n",
    "\tfuel_Consumption=pd.read_csv('FuelConsumptionCo2.csv')\n",
    "\tx=fuel_Consumption.drop('CO2EMISSIONS',axis=1).copy()\n",
    "\tx.drop(['MODELYEAR','MAKE','MODEL','VEHICLECLASS','TRANSMISSION'],axis=1,inplace=True)\n",
    "\ty=fuel_Consumption['CO2EMISSIONS']\n",
    "\treturn x,y"
   ]
  },
  {
   "cell_type": "code",
   "execution_count": 25,
   "id": "excellent-glossary",
   "metadata": {},
   "outputs": [],
   "source": [
    "def model_report(models,x_train,x_test,y_train,y_test):\n",
    "\tfor name,model in models:\n",
    "\t\tmodel.fit(x_train,y_train)\n",
    "\t\ty_hat_train=model.predict(x_train)\n",
    "\t\ty_hat_test=model.predict(x_test)\n",
    "\t\tprint('-'*80)\n",
    "\t\tprint(f\"Report for {name}\")\n",
    "\t\tprint()\n",
    "\t\tprint(f'RMSE Train = {rmse(y_train,y_hat_train):.2f}')\n",
    "\t\tprint(f'RMSE Test = {rmse(y_test,y_hat_test):.2f}')\n",
    "\t\tprint()\n",
    "\t\tprint(f'Accuracy Train = {r2_score(y_train,y_hat_train):.2f}')\n",
    "\t\tprint(f'Accuracy Test = {r2_score(y_test,y_hat_test):.2f}')\n",
    "\t\tprint('\\n\\n\\n')"
   ]
  },
  {
   "cell_type": "code",
   "execution_count": 26,
   "id": "caring-reggae",
   "metadata": {},
   "outputs": [],
   "source": [
    "def rmse(y,y_hat):\n",
    "\treturn np.sqrt(mean_squared_error(y,y_hat))"
   ]
  },
  {
   "cell_type": "code",
   "execution_count": 30,
   "id": "c38c1145",
   "metadata": {},
   "outputs": [
    {
     "name": "stdout",
     "output_type": "stream",
     "text": [
      "--------------------------------------------------------------------------------\n",
      "Report for Linear Regression\n",
      "\n",
      "RMSE Train = 5.36\n",
      "RMSE Test = 5.57\n",
      "\n",
      "Accuracy Train = 0.99\n",
      "Accuracy Test = 0.99\n",
      "\n",
      "\n",
      "\n",
      "\n",
      "--------------------------------------------------------------------------------\n",
      "Report for SGD Regressor\n",
      "\n",
      "RMSE Train = 5.54\n",
      "RMSE Test = 5.96\n",
      "\n",
      "Accuracy Train = 0.99\n",
      "Accuracy Test = 0.99\n",
      "\n",
      "\n",
      "\n",
      "\n",
      "--------------------------------------------------------------------------------\n",
      "Report for Decision Tree\n",
      "\n",
      "RMSE Train = 0.03\n",
      "RMSE Test = 6.35\n",
      "\n",
      "Accuracy Train = 1.00\n",
      "Accuracy Test = 0.99\n",
      "\n",
      "\n",
      "\n",
      "\n",
      "--------------------------------------------------------------------------------\n",
      "Report for Support Vector Machines\n",
      "\n",
      "RMSE Train = 12.79\n",
      "RMSE Test = 14.93\n",
      "\n",
      "Accuracy Train = 0.96\n",
      "Accuracy Test = 0.94\n",
      "\n",
      "\n",
      "\n",
      "\n",
      "--------------------------------------------------------------------------------\n",
      "Report for Random Forest\n",
      "\n",
      "RMSE Train = 1.65\n",
      "RMSE Test = 7.07\n",
      "\n",
      "Accuracy Train = 1.00\n",
      "Accuracy Test = 0.99\n",
      "\n",
      "\n",
      "\n",
      "\n",
      "--------------------------------------------------------------------------------\n",
      "Report for K-Nearest Neighbors\n",
      "\n",
      "RMSE Train = 5.55\n",
      "RMSE Test = 7.79\n",
      "\n",
      "Accuracy Train = 0.99\n",
      "Accuracy Test = 0.98\n",
      "\n",
      "\n",
      "\n",
      "\n"
     ]
    },
    {
     "name": "stderr",
     "output_type": "stream",
     "text": [
      "C:\\Users\\saina\\AppData\\Local\\Programs\\Python\\Python39\\lib\\site-packages\\sklearn\\base.py:441: UserWarning: X does not have valid feature names, but KNeighborsRegressor was fitted with feature names\n",
      "  warnings.warn(\n",
      "C:\\Users\\saina\\AppData\\Local\\Programs\\Python\\Python39\\lib\\site-packages\\sklearn\\base.py:441: UserWarning: X does not have valid feature names, but KNeighborsRegressor was fitted with feature names\n",
      "  warnings.warn(\n"
     ]
    }
   ],
   "source": [
    "if __name__==\"__main__\":\n",
    "\tx,y=load_data()\n",
    "\tx_train, x_test, y_train, y_test = train_test_split(x, y, test_size=0.3, random_state=123)\n",
    "\tnum_features=['FUELCONSUMPTION_CITY','FUELCONSUMPTION_COMB','ENGINESIZE','FUELCONSUMPTION_HWY','CYLINDERS','FUELCONSUMPTION_COMB_MPG']\n",
    "\tcat_features=['FUELTYPE']\n",
    "\tnum_pipeline=Pipeline([('imputer',SimpleImputer(strategy='median')),\n",
    "\t\t\t\t\t\t   ('standardscaler',StandardScaler())])\n",
    "\tfinal_pipeline=ColumnTransformer([(\"numerical pipeline\", num_pipeline, num_features),\n",
    "        \t\t\t\t\t\t\t  (\"categorical pipeline\", OneHotEncoder(), cat_features)])\n",
    "\tx_train_tr = final_pipeline.fit_transform(x_train)\n",
    "\tcat_col = list(final_pipeline.named_transformers_['categorical pipeline'].categories_[0])\n",
    "\n",
    "\tcolumns=num_features+list(cat_col)\n",
    "\tx_train_tr=pd.DataFrame(x_train_tr,columns=columns)\n",
    "\tx_test_tr=final_pipeline.transform(x_test)\n",
    "\tx_test_tr=pd.DataFrame(x_test_tr,columns=columns)\n",
    "\tmodels = [\n",
    "        ('Linear Regression', LinearRegression()),\n",
    "        ('SGD Regressor', SGDRegressor()),\n",
    "        ('Decision Tree', DecisionTreeRegressor()),\n",
    "        ('Support Vector Machines', SVR(kernel='linear')),\n",
    "        ('Random Forest', RandomForestRegressor()),\n",
    "        ('K-Nearest Neighbors', KNeighborsRegressor())\n",
    "    ]\n",
    "model_report(models,x_train_tr,x_test_tr,y_train,y_test)\n"
   ]
  }
 ],
 "metadata": {
  "kernelspec": {
   "display_name": "Python 3 (ipykernel)",
   "language": "python",
   "name": "python3"
  },
  "language_info": {
   "codemirror_mode": {
    "name": "ipython",
    "version": 3
   },
   "file_extension": ".py",
   "mimetype": "text/x-python",
   "name": "python",
   "nbconvert_exporter": "python",
   "pygments_lexer": "ipython3",
   "version": "3.9.7"
  }
 },
 "nbformat": 4,
 "nbformat_minor": 5
}
